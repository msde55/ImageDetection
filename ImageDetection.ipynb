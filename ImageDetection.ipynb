{
 "cells": [
  {
   "cell_type": "code",
   "execution_count": 1,
   "metadata": {},
   "outputs": [],
   "source": [
    "import tensorflow as tf\n",
    "from keras.preprocessing.image import ImageDataGenerator"
   ]
  },
  {
   "attachments": {},
   "cell_type": "markdown",
   "metadata": {},
   "source": [
    "# Data Preprocessing"
   ]
  },
  {
   "attachments": {},
   "cell_type": "markdown",
   "metadata": {},
   "source": [
    "1. Why - Apply transformation to images from training set only so as to prevent Overfitting.\n",
    "2. What - Transformation geometric (transvections, rotations, zoom, flips) - Image Augmentation."
   ]
  },
  {
   "cell_type": "code",
   "execution_count": 2,
   "metadata": {},
   "outputs": [],
   "source": [
    "train_datagen = ImageDataGenerator(rescale=1/255, shear_range = 0.2, zoom_range = 0.2, horizontal_flip=True)"
   ]
  },
  {
   "cell_type": "code",
   "execution_count": 3,
   "metadata": {},
   "outputs": [
    {
     "name": "stdout",
     "output_type": "stream",
     "text": [
      "Found 8000 images belonging to 2 classes.\n"
     ]
    }
   ],
   "source": [
    "training_set = train_datagen.flow_from_directory(\"data/training_set\", target_size=(64,64), batch_size=32, class_mode=\"binary\")"
   ]
  },
  {
   "cell_type": "code",
   "execution_count": 4,
   "metadata": {},
   "outputs": [],
   "source": [
    "test_datagen = ImageDataGenerator(rescale=1./255)"
   ]
  },
  {
   "cell_type": "code",
   "execution_count": 5,
   "metadata": {},
   "outputs": [
    {
     "name": "stdout",
     "output_type": "stream",
     "text": [
      "Found 2000 images belonging to 2 classes.\n"
     ]
    }
   ],
   "source": [
    "test_set = test_datagen.flow_from_directory(\"data/test_set\", target_size=(64,64), batch_size=32, class_mode=\"binary\")"
   ]
  },
  {
   "attachments": {},
   "cell_type": "markdown",
   "metadata": {},
   "source": [
    "# CNN Model Definition"
   ]
  },
  {
   "cell_type": "code",
   "execution_count": 6,
   "metadata": {},
   "outputs": [],
   "source": [
    "CNN = tf.keras.models.Sequential()"
   ]
  },
  {
   "attachments": {},
   "cell_type": "markdown",
   "metadata": {},
   "source": [
    "Input shape is 64 X 64 X 3 as the image is resized and 3 is for the RGB Layers. Used only for first layer.\n"
   ]
  },
  {
   "cell_type": "code",
   "execution_count": 7,
   "metadata": {},
   "outputs": [],
   "source": [
    "# Convolution Layer\n",
    "CNN.add(tf.keras.layers.Conv2D(filters= 32, kernel_size=3, activation = \"relu\", input_shape = (64,64,3)))"
   ]
  },
  {
   "cell_type": "code",
   "execution_count": 8,
   "metadata": {},
   "outputs": [],
   "source": [
    "#Max Pooling Layer\n",
    "CNN.add(tf.keras.layers.MaxPool2D( pool_size = 2, strides= 2))"
   ]
  },
  {
   "cell_type": "code",
   "execution_count": 9,
   "metadata": {},
   "outputs": [],
   "source": [
    "# 2nd Convolution and Max Pooling Layer\n",
    "CNN.add(tf.keras.layers.Conv2D(filters = 32 , kernel_size = 3, activation=\"relu\" ))\n",
    "CNN.add(tf.keras.layers.MaxPool2D( pool_size = 2, strides= 2))"
   ]
  },
  {
   "attachments": {},
   "cell_type": "markdown",
   "metadata": {},
   "source": [
    "Flattening Layer - Convert into 1D Vector, to be used as input for next Fully Connected Layer."
   ]
  },
  {
   "cell_type": "code",
   "execution_count": 10,
   "metadata": {},
   "outputs": [],
   "source": [
    "CNN.add(tf.keras.layers.Flatten())"
   ]
  },
  {
   "attachments": {},
   "cell_type": "markdown",
   "metadata": {},
   "source": [
    "Full Connection"
   ]
  },
  {
   "cell_type": "markdown",
   "metadata": {},
   "source": [
    "Binary classification - hence 1 neuron and Sigmoid."
   ]
  },
  {
   "cell_type": "code",
   "execution_count": 12,
   "metadata": {},
   "outputs": [],
   "source": [
    "CNN.add(tf.keras.layers.Dense(units = 128,activation=\"relu\"))\n",
    "CNN.add(tf.keras.layers.Dense(units = 1,activation=\"sigmoid\"))"
   ]
  },
  {
   "cell_type": "code",
   "execution_count": 30,
   "metadata": {},
   "outputs": [
    {
     "name": "stdout",
     "output_type": "stream",
     "text": [
      "Model: \"sequential\"\n",
      "_________________________________________________________________\n",
      " Layer (type)                Output Shape              Param #   \n",
      "=================================================================\n",
      " conv2d (Conv2D)             (None, 62, 62, 32)        896       \n",
      "                                                                 \n",
      " max_pooling2d (MaxPooling2D  (None, 31, 31, 32)       0         \n",
      " )                                                               \n",
      "                                                                 \n",
      " conv2d_1 (Conv2D)           (None, 29, 29, 32)        9248      \n",
      "                                                                 \n",
      " max_pooling2d_1 (MaxPooling  (None, 14, 14, 32)       0         \n",
      " 2D)                                                             \n",
      "                                                                 \n",
      " flatten (Flatten)           (None, 6272)              0         \n",
      "                                                                 \n",
      " dense (Dense)               (None, 128)               802944    \n",
      "                                                                 \n",
      " dense_1 (Dense)             (None, 1)                 129       \n",
      "                                                                 \n",
      "=================================================================\n",
      "Total params: 813,217\n",
      "Trainable params: 813,217\n",
      "Non-trainable params: 0\n",
      "_________________________________________________________________\n"
     ]
    }
   ],
   "source": [
    "CNN.summary()"
   ]
  },
  {
   "cell_type": "markdown",
   "metadata": {},
   "source": [
    "# Training CNN"
   ]
  },
  {
   "cell_type": "code",
   "execution_count": 13,
   "metadata": {},
   "outputs": [],
   "source": [
    "CNN.compile(optimizer = 'adam', loss = \"binary_crossentropy\", metrics = [\"accuracy\"])"
   ]
  },
  {
   "cell_type": "code",
   "execution_count": 16,
   "metadata": {},
   "outputs": [
    {
     "name": "stdout",
     "output_type": "stream",
     "text": [
      "Epoch 1/25\n",
      "250/250 [==============================] - 37s 145ms/step - loss: 0.6734 - accuracy: 0.5746 - val_loss: 0.6422 - val_accuracy: 0.6435\n",
      "Epoch 2/25\n",
      "250/250 [==============================] - 29s 115ms/step - loss: 0.6154 - accuracy: 0.6659 - val_loss: 0.5818 - val_accuracy: 0.7015\n",
      "Epoch 3/25\n",
      "250/250 [==============================] - 30s 120ms/step - loss: 0.5739 - accuracy: 0.7014 - val_loss: 0.5688 - val_accuracy: 0.7155\n",
      "Epoch 4/25\n",
      "250/250 [==============================] - 29s 114ms/step - loss: 0.5415 - accuracy: 0.7234 - val_loss: 0.5156 - val_accuracy: 0.7545\n",
      "Epoch 5/25\n",
      "250/250 [==============================] - 29s 114ms/step - loss: 0.5202 - accuracy: 0.7376 - val_loss: 0.5045 - val_accuracy: 0.7685\n",
      "Epoch 6/25\n",
      "250/250 [==============================] - 23s 91ms/step - loss: 0.4937 - accuracy: 0.7563 - val_loss: 0.4998 - val_accuracy: 0.7615\n",
      "Epoch 7/25\n",
      "250/250 [==============================] - 20s 81ms/step - loss: 0.4657 - accuracy: 0.7781 - val_loss: 0.4785 - val_accuracy: 0.7845\n",
      "Epoch 8/25\n",
      "250/250 [==============================] - 20s 80ms/step - loss: 0.4457 - accuracy: 0.7857 - val_loss: 0.5314 - val_accuracy: 0.7590\n",
      "Epoch 9/25\n",
      "250/250 [==============================] - 20s 79ms/step - loss: 0.4245 - accuracy: 0.7993 - val_loss: 0.5344 - val_accuracy: 0.7660\n",
      "Epoch 10/25\n",
      "250/250 [==============================] - 20s 79ms/step - loss: 0.4128 - accuracy: 0.8124 - val_loss: 0.4874 - val_accuracy: 0.7815\n",
      "Epoch 11/25\n",
      "250/250 [==============================] - 21s 83ms/step - loss: 0.4016 - accuracy: 0.8134 - val_loss: 0.4629 - val_accuracy: 0.7965\n",
      "Epoch 12/25\n",
      "250/250 [==============================] - 21s 84ms/step - loss: 0.3821 - accuracy: 0.8275 - val_loss: 0.4700 - val_accuracy: 0.7900\n",
      "Epoch 13/25\n",
      "250/250 [==============================] - 21s 84ms/step - loss: 0.3744 - accuracy: 0.8292 - val_loss: 0.4481 - val_accuracy: 0.8125\n",
      "Epoch 14/25\n",
      "250/250 [==============================] - 21s 85ms/step - loss: 0.3611 - accuracy: 0.8401 - val_loss: 0.4690 - val_accuracy: 0.7885\n",
      "Epoch 15/25\n",
      "250/250 [==============================] - 21s 83ms/step - loss: 0.3393 - accuracy: 0.8481 - val_loss: 0.4704 - val_accuracy: 0.7970\n",
      "Epoch 16/25\n",
      "250/250 [==============================] - 20s 81ms/step - loss: 0.3268 - accuracy: 0.8601 - val_loss: 0.4662 - val_accuracy: 0.7990\n",
      "Epoch 17/25\n",
      "250/250 [==============================] - 21s 83ms/step - loss: 0.3176 - accuracy: 0.8586 - val_loss: 0.4695 - val_accuracy: 0.8035\n",
      "Epoch 18/25\n",
      "250/250 [==============================] - 20s 79ms/step - loss: 0.3018 - accuracy: 0.8677 - val_loss: 0.4640 - val_accuracy: 0.8005\n",
      "Epoch 19/25\n",
      "250/250 [==============================] - 20s 79ms/step - loss: 0.2938 - accuracy: 0.8750 - val_loss: 0.5141 - val_accuracy: 0.7980\n",
      "Epoch 20/25\n",
      "250/250 [==============================] - 20s 82ms/step - loss: 0.2773 - accuracy: 0.8856 - val_loss: 0.5156 - val_accuracy: 0.7905\n",
      "Epoch 21/25\n",
      "250/250 [==============================] - 20s 80ms/step - loss: 0.2615 - accuracy: 0.8896 - val_loss: 0.4961 - val_accuracy: 0.8065\n",
      "Epoch 22/25\n",
      "250/250 [==============================] - 19s 74ms/step - loss: 0.2437 - accuracy: 0.9036 - val_loss: 0.5029 - val_accuracy: 0.8020\n",
      "Epoch 23/25\n",
      "250/250 [==============================] - 19s 75ms/step - loss: 0.2449 - accuracy: 0.8990 - val_loss: 0.5072 - val_accuracy: 0.8125\n",
      "Epoch 24/25\n",
      "250/250 [==============================] - 19s 74ms/step - loss: 0.2162 - accuracy: 0.9121 - val_loss: 0.5782 - val_accuracy: 0.7810\n",
      "Epoch 25/25\n",
      "250/250 [==============================] - 19s 78ms/step - loss: 0.2080 - accuracy: 0.9104 - val_loss: 0.5801 - val_accuracy: 0.7835\n"
     ]
    },
    {
     "data": {
      "text/plain": [
       "<keras.callbacks.History at 0x1c0a40f01f0>"
      ]
     },
     "execution_count": 16,
     "metadata": {},
     "output_type": "execute_result"
    }
   ],
   "source": [
    "CNN.fit(x = training_set, validation_data=test_set, epochs = 25)"
   ]
  },
  {
   "cell_type": "markdown",
   "metadata": {},
   "source": [
    "# Making Prediction"
   ]
  },
  {
   "cell_type": "code",
   "execution_count": 23,
   "metadata": {},
   "outputs": [],
   "source": [
    "import numpy as np"
   ]
  },
  {
   "cell_type": "code",
   "execution_count": 27,
   "metadata": {},
   "outputs": [
    {
     "name": "stdout",
     "output_type": "stream",
     "text": [
      "1/1 [==============================] - 0s 17ms/step\n",
      "Cat\n"
     ]
    }
   ],
   "source": [
    "test_image = tf.keras.utils.load_img(\"data/single_prediction/cat_or_dog_2.jpg\", target_size = (64,64))\n",
    "test_image = tf.keras.utils.img_to_array(test_image)\n",
    "test_image = np.expand_dims(test_image, axis = 0)\n",
    "result = CNN.predict(test_image/255.0)\n",
    "training_set.class_indices\n",
    "if result[0][0]>0.5:print(\"Dog\")\n",
    "else:print(\"Cat\")"
   ]
  }
 ],
 "metadata": {
  "kernelspec": {
   "display_name": "Python 3",
   "language": "python",
   "name": "python3"
  },
  "language_info": {
   "codemirror_mode": {
    "name": "ipython",
    "version": 3
   },
   "file_extension": ".py",
   "mimetype": "text/x-python",
   "name": "python",
   "nbconvert_exporter": "python",
   "pygments_lexer": "ipython3",
   "version": "3.10.6"
  },
  "orig_nbformat": 4
 },
 "nbformat": 4,
 "nbformat_minor": 2
}
